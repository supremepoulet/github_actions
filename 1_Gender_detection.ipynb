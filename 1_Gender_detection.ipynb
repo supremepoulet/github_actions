{
  "nbformat": 4,
  "nbformat_minor": 0,
  "metadata": {
    "colab": {
      "provenance": [],
      "include_colab_link": true
    },
    "kernelspec": {
      "name": "python3",
      "display_name": "Python 3"
    },
    "language_info": {
      "name": "python"
    },
    "accelerator": "GPU",
    "gpuClass": "standard"
  },
  "cells": [
    {
      "cell_type": "markdown",
      "metadata": {
        "id": "view-in-github",
        "colab_type": "text"
      },
      "source": [
        "<a href=\"https://colab.research.google.com/github/supremepoulet/github_actions/blob/main/1_Gender_detection.ipynb\" target=\"_parent\"><img src=\"https://colab.research.google.com/assets/colab-badge.svg\" alt=\"Open In Colab\"/></a>"
      ]
    },
    {
      "cell_type": "markdown",
      "metadata": {
        "id": "Wf4Gwn3_kLuk"
      },
      "source": [
        "<center><img src=\"https://assets-datascientest.s3-eu-west-1.amazonaws.com/train/logo_datascientest.png\" style=\"height:150px;center\"></center>\n",
        "\n",
        "<hr style=\"border-width:2px;border-color:#75DFC1\">\n",
        "<center><h1>Deep-Learning - Modules complémentaires</h1></center>\n",
        "<center><h2>Classification sur des données structurées</h2></center>\n",
        "<hr style=\"border-width:2px;border-color:#75DFC1\">\n",
        "\n",
        "\n",
        "Le but de cet exercice est de s'entraîner à faire une classification sur des données structurées à l'aide d'un réseau de neurones dense.\n",
        "\n",
        " Nous allons travailler avec la base de données **```gender_classification.csv```**, qui contient les caractéristiques physiques du visage d'hommes et de femmes ainsi que leur genre.\n",
        "\n",
        "> La structure de l'exercice est la suivante :\n",
        ">> I - [Préparation du dataset](#preparation)\n",
        ">>\n",
        ">>\n",
        ">> II - [Classification avec un algorithme classique (KNN)](#knn)\n",
        ">>\n",
        ">>\n",
        ">> III - [Classification à l'aide d'un réseau de neurones dense](#dnn)\n",
        "\n",
        "- Exécuter les cellules ci-dessous pour importer le dataset et les modules nécessaires à l'exercice."
      ]
    },
    {
      "cell_type": "code",
      "metadata": {
        "id": "DtjhmT0_4a9w",
        "outputId": "ebdfb1e2-85b0-48f8-b149-e4a59235bc76",
        "colab": {
          "base_uri": "https://localhost:8080/"
        }
      },
      "source": [
        "!wget https://assets-datascientest.s3-eu-west-1.amazonaws.com/datasets/gender_classification.zip\n",
        "!unzip gender_classification.zip"
      ],
      "execution_count": null,
      "outputs": [
        {
          "output_type": "stream",
          "name": "stdout",
          "text": [
            "--2023-06-07 03:46:50--  https://assets-datascientest.s3-eu-west-1.amazonaws.com/datasets/gender_classification.zip\n",
            "Resolving assets-datascientest.s3-eu-west-1.amazonaws.com (assets-datascientest.s3-eu-west-1.amazonaws.com)... 52.218.46.98, 52.218.88.104, 52.92.18.146, ...\n",
            "Connecting to assets-datascientest.s3-eu-west-1.amazonaws.com (assets-datascientest.s3-eu-west-1.amazonaws.com)|52.218.46.98|:443... connected.\n",
            "HTTP request sent, awaiting response... 200 OK\n",
            "Length: 19483 (19K) [application/zip]\n",
            "Saving to: ‘gender_classification.zip’\n",
            "\n",
            "gender_classificati 100%[===================>]  19.03K  --.-KB/s    in 0.001s  \n",
            "\n",
            "2023-06-07 03:46:50 (34.2 MB/s) - ‘gender_classification.zip’ saved [19483/19483]\n",
            "\n",
            "Archive:  gender_classification.zip\n",
            "  inflating: gender_classification.csv  \n"
          ]
        }
      ]
    },
    {
      "cell_type": "code",
      "metadata": {
        "id": "dc-NPUXf4dF6"
      },
      "source": [
        "import pandas as pd\n",
        "import numpy as np\n",
        "import matplotlib.pyplot as plt\n",
        "%matplotlib inline\n",
        "\n",
        "from sklearn.model_selection import train_test_split\n",
        "from sklearn.preprocessing import MinMaxScaler\n",
        "\n",
        "from sklearn.neighbors import KNeighborsClassifier\n",
        "\n",
        "from tensorflow.keras import callbacks\n",
        "from tensorflow.keras import Sequential\n",
        "from tensorflow.keras.layers import Dense, Dropout, ReLU"
      ],
      "execution_count": null,
      "outputs": []
    },
    {
      "cell_type": "markdown",
      "metadata": {
        "id": "iJ3wpy5L-yiW"
      },
      "source": [
        "# <a name=\"preparation\"></a> I - Préparation du dataset\n",
        "\n",
        "- (a) Charger le jeu de données **```gender_classification.csv```** dans un DataFrame ```df```.\n",
        "\n",
        "- (b) Afficher la shape de ```df``` ainsi que ses 5 premières lignes."
      ]
    },
    {
      "cell_type": "code",
      "source": [],
      "metadata": {
        "id": "qz5P1GE1OfqI"
      },
      "execution_count": null,
      "outputs": []
    },
    {
      "cell_type": "code",
      "source": [],
      "metadata": {
        "id": "EmP7bze-ONbg"
      },
      "execution_count": null,
      "outputs": []
    },
    {
      "cell_type": "markdown",
      "metadata": {
        "id": "MpueSDM4bSbX"
      },
      "source": [
        "- (c) Vérifier que les colonnes de ```df``` sont du bon type, et traiter les valeurs manquantes s'il y en a."
      ]
    },
    {
      "cell_type": "code",
      "source": [],
      "metadata": {
        "id": "LEaftpaMOYsr"
      },
      "execution_count": null,
      "outputs": []
    },
    {
      "cell_type": "markdown",
      "metadata": {
        "id": "Igf68u4mYBY8"
      },
      "source": [
        "- (d) Préparer les données.\n",
        "> Cette partie regroupe :\n",
        ">> - L'encodage des variables\n",
        ">>\n",
        ">>\n",
        ">> - la séparation des variables explicatives de la variable cible\n",
        ">>\n",
        ">>\n",
        ">> - La création d'un jeu de test et d'entraînement\n",
        ">>\n",
        ">>\n",
        ">> - Le scaling de ```X_train``` et ```X_test```"
      ]
    },
    {
      "cell_type": "code",
      "source": [],
      "metadata": {
        "id": "ZRFQ3t0UOIFy"
      },
      "execution_count": null,
      "outputs": []
    },
    {
      "cell_type": "markdown",
      "metadata": {
        "id": "mF9FgTdxI7i5"
      },
      "source": [
        "# II - <a name=\"knn\"></a> Classification avec un algorithme classique (KNN)\n",
        "\n",
        "- (a) Instancier un modèle de classification KNN.\n",
        "\n",
        "- (b) Fit le modèle aux données d'entraînement.\n",
        "\n",
        "- (c) Effectuer une prédiction à partir des données de test (attention au scaling).\n",
        "\n",
        "- (d) Afficher la matrice de confusion de la prédiction."
      ]
    },
    {
      "cell_type": "code",
      "source": [],
      "metadata": {
        "id": "hLTgYhiGOFu4"
      },
      "execution_count": null,
      "outputs": []
    },
    {
      "cell_type": "code",
      "source": [],
      "metadata": {
        "id": "XQVqvRRgOd7w"
      },
      "execution_count": null,
      "outputs": []
    },
    {
      "cell_type": "code",
      "source": [],
      "metadata": {
        "id": "3rT8-7EBOeCL"
      },
      "execution_count": null,
      "outputs": []
    },
    {
      "cell_type": "markdown",
      "metadata": {
        "id": "x5sQG8XEJMcc"
      },
      "source": [
        "# III - <a name=\"dnn\"></a> Classification à l'aide d'un réseau de neurones dense\n",
        "\n",
        "- (a) Instancier un réseau de neurones dense de l'architecture de votre choix.\n",
        "\n",
        "- (b) Compiler le modèle avec une métrique appropriée.\n",
        "\n",
        "- (c) Entraîner le modèle avec les paramètres de votre choix. On pourra également définir des callbacks.\n",
        "\n",
        "- (d) Effectuer une prédiction à partir des données de test (attention au scaling).\n",
        "\n",
        "- (e) Afficher la matrice de confusion de la prédiction"
      ]
    },
    {
      "cell_type": "code",
      "metadata": {
        "id": "BJOzbtCNbdXx"
      },
      "source": [],
      "execution_count": null,
      "outputs": []
    },
    {
      "cell_type": "code",
      "source": [],
      "metadata": {
        "id": "HdQK9xifOjtA"
      },
      "execution_count": null,
      "outputs": []
    },
    {
      "cell_type": "code",
      "source": [],
      "metadata": {
        "id": "yLg60EgLOjv5"
      },
      "execution_count": null,
      "outputs": []
    },
    {
      "cell_type": "code",
      "source": [],
      "metadata": {
        "id": "PvoxoK69Ojz7"
      },
      "execution_count": null,
      "outputs": []
    }
  ]
}