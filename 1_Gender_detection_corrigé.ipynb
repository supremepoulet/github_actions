{
  "nbformat": 4,
  "nbformat_minor": 0,
  "metadata": {
    "colab": {
      "provenance": [],
      "include_colab_link": true
    },
    "kernelspec": {
      "name": "python3",
      "display_name": "Python 3"
    },
    "language_info": {
      "name": "python"
    }
  },
  "cells": [
    {
      "cell_type": "markdown",
      "metadata": {
        "id": "view-in-github",
        "colab_type": "text"
      },
      "source": [
        "<a href=\"https://colab.research.google.com/github/supremepoulet/github_actions/blob/main/1_Gender_detection_corrig%C3%A9.ipynb\" target=\"_parent\"><img src=\"https://colab.research.google.com/assets/colab-badge.svg\" alt=\"Open In Colab\"/></a>"
      ]
    },
    {
      "cell_type": "markdown",
      "metadata": {
        "id": "Wf4Gwn3_kLuk"
      },
      "source": [
        "<center><img src=\"https://assets-datascientest.s3-eu-west-1.amazonaws.com/train/logo_datascientest.png\" style=\"height:150px;center\"></center>\n",
        "\n",
        "<hr style=\"border-width:2px;border-color:#75DFC1\">\n",
        "<center><h1>Deep-Learning - Modules complémentaires</h1></center>\n",
        "<center><h2>Classification sur des données structurées</h2></center>\n",
        "<hr style=\"border-width:2px;border-color:#75DFC1\">\n",
        "\n",
        "\n",
        "Le but de cet exercice est de s'entraîner à faire une classification sur des données structurées à l'aide d'un réseau de neurones dense.\n",
        "\n",
        " Nous allons travailler avec la base de données **```gender_classification.csv```**, qui contient les caractéristiques physiques du visage d'hommes et de femmes ainsi que leur genre.\n",
        "\n",
        "> La structure de l'exercice est la suivante :\n",
        ">> I - [Préparation du dataset](#preparation)\n",
        ">>\n",
        ">>\n",
        ">> II - [Classification avec un algorithme classique (KNN)](#knn)\n",
        ">>\n",
        ">>\n",
        ">> III - [Classification à l'aide d'un réseau de neurones dense](#dnn)\n",
        "\n",
        "- Exécuter les cellules ci-dessous pour importer le dataset et les modules nécessaires à l'exercice."
      ]
    },
    {
      "cell_type": "code",
      "source": [],
      "metadata": {
        "id": "BumQW5W1P88c"
      },
      "execution_count": null,
      "outputs": []
    },
    {
      "cell_type": "code",
      "metadata": {
        "colab": {
          "base_uri": "https://localhost:8080/"
        },
        "id": "6YeEnwFD-lJN",
        "outputId": "e5a88211-01f3-41be-d62d-a7a6e7ec4a4b"
      },
      "source": [
        "!wget https://assets-datascientest.s3-eu-west-1.amazonaws.com/datasets/gender_classification.zip\n",
        "!unzip gender_classification.zip"
      ],
      "execution_count": null,
      "outputs": [
        {
          "output_type": "stream",
          "text": [
            "--2021-08-03 11:59:31--  https://assets-datascientest.s3-eu-west-1.amazonaws.com/datasets/gender_classification.zip\n",
            "Resolving assets-datascientest.s3-eu-west-1.amazonaws.com (assets-datascientest.s3-eu-west-1.amazonaws.com)... 52.218.109.248\n",
            "Connecting to assets-datascientest.s3-eu-west-1.amazonaws.com (assets-datascientest.s3-eu-west-1.amazonaws.com)|52.218.109.248|:443... connected.\n",
            "HTTP request sent, awaiting response... 200 OK\n",
            "Length: 19483 (19K) [application/zip]\n",
            "Saving to: ‘gender_classification.zip’\n",
            "\n",
            "gender_classificati 100%[===================>]  19.03K  73.7KB/s    in 0.3s    \n",
            "\n",
            "2021-08-03 11:59:33 (73.7 KB/s) - ‘gender_classification.zip’ saved [19483/19483]\n",
            "\n",
            "Archive:  gender_classification.zip\n",
            "  inflating: gender_classification.csv  \n"
          ],
          "name": "stdout"
        }
      ]
    },
    {
      "cell_type": "code",
      "metadata": {
        "id": "gDQrK1n1-vQz"
      },
      "source": [
        "import pandas as pd\n",
        "import numpy as np\n",
        "import matplotlib.pyplot as plt\n",
        "%matplotlib inline\n",
        "\n",
        "from sklearn.model_selection import train_test_split\n",
        "from sklearn.preprocessing import MinMaxScaler\n",
        "\n",
        "from sklearn.neighbors import KNeighborsClassifier\n",
        "\n",
        "from tensorflow.keras import callbacks\n",
        "from tensorflow.keras import Sequential\n",
        "from tensorflow.keras.layers import Dense, Dropout"
      ],
      "execution_count": null,
      "outputs": []
    },
    {
      "cell_type": "markdown",
      "metadata": {
        "id": "iJ3wpy5L-yiW"
      },
      "source": [
        "# <a name=\"preparation\"></a> I - Préparation du dataset\n",
        "\n",
        "- (a) Charger le jeu de données **```gender_classification.csv```** dans un DataFrame ```df```.\n",
        "\n",
        "- (b) Afficher la shape de ```df``` ainsi que ses 5 premières lignes."
      ]
    },
    {
      "cell_type": "code",
      "metadata": {
        "id": "hl887xR8-yB7"
      },
      "source": [
        "df = pd.read_csv('gender_classification.csv')"
      ],
      "execution_count": null,
      "outputs": []
    },
    {
      "cell_type": "code",
      "metadata": {
        "colab": {
          "base_uri": "https://localhost:8080/",
          "height": 240
        },
        "id": "scrqTspoBWg6",
        "outputId": "328b0c93-f6f2-40a9-9ef4-2f45ad011470"
      },
      "source": [
        "print(\"Nombre de lignes dans le dataset : {}\".format(df.shape[0]))\n",
        "print(\"Nombre de colonnes dans le dataset : {}\".format(df.shape[1]))\n",
        "\n",
        "df.head()"
      ],
      "execution_count": null,
      "outputs": [
        {
          "output_type": "stream",
          "text": [
            "Nombre de lignes dans le dataset : 5001\n",
            "Nombre de colonnes dans le dataset : 8\n"
          ],
          "name": "stdout"
        },
        {
          "output_type": "execute_result",
          "data": {
            "text/html": [
              "<div>\n",
              "<style scoped>\n",
              "    .dataframe tbody tr th:only-of-type {\n",
              "        vertical-align: middle;\n",
              "    }\n",
              "\n",
              "    .dataframe tbody tr th {\n",
              "        vertical-align: top;\n",
              "    }\n",
              "\n",
              "    .dataframe thead th {\n",
              "        text-align: right;\n",
              "    }\n",
              "</style>\n",
              "<table border=\"1\" class=\"dataframe\">\n",
              "  <thead>\n",
              "    <tr style=\"text-align: right;\">\n",
              "      <th></th>\n",
              "      <th>long_hair</th>\n",
              "      <th>forehead_width_cm</th>\n",
              "      <th>forehead_height_cm</th>\n",
              "      <th>nose_wide</th>\n",
              "      <th>nose_long</th>\n",
              "      <th>lips_thin</th>\n",
              "      <th>distance_nose_to_lip_long</th>\n",
              "      <th>gender</th>\n",
              "    </tr>\n",
              "  </thead>\n",
              "  <tbody>\n",
              "    <tr>\n",
              "      <th>0</th>\n",
              "      <td>1</td>\n",
              "      <td>11.8</td>\n",
              "      <td>6.1</td>\n",
              "      <td>1</td>\n",
              "      <td>0</td>\n",
              "      <td>1</td>\n",
              "      <td>1</td>\n",
              "      <td>Male</td>\n",
              "    </tr>\n",
              "    <tr>\n",
              "      <th>1</th>\n",
              "      <td>0</td>\n",
              "      <td>14.0</td>\n",
              "      <td>5.4</td>\n",
              "      <td>0</td>\n",
              "      <td>0</td>\n",
              "      <td>1</td>\n",
              "      <td>0</td>\n",
              "      <td>Female</td>\n",
              "    </tr>\n",
              "    <tr>\n",
              "      <th>2</th>\n",
              "      <td>0</td>\n",
              "      <td>11.8</td>\n",
              "      <td>6.3</td>\n",
              "      <td>1</td>\n",
              "      <td>1</td>\n",
              "      <td>1</td>\n",
              "      <td>1</td>\n",
              "      <td>Male</td>\n",
              "    </tr>\n",
              "    <tr>\n",
              "      <th>3</th>\n",
              "      <td>0</td>\n",
              "      <td>14.4</td>\n",
              "      <td>6.1</td>\n",
              "      <td>0</td>\n",
              "      <td>1</td>\n",
              "      <td>1</td>\n",
              "      <td>1</td>\n",
              "      <td>Male</td>\n",
              "    </tr>\n",
              "    <tr>\n",
              "      <th>4</th>\n",
              "      <td>1</td>\n",
              "      <td>13.5</td>\n",
              "      <td>5.9</td>\n",
              "      <td>0</td>\n",
              "      <td>0</td>\n",
              "      <td>0</td>\n",
              "      <td>0</td>\n",
              "      <td>Female</td>\n",
              "    </tr>\n",
              "  </tbody>\n",
              "</table>\n",
              "</div>"
            ],
            "text/plain": [
              "   long_hair  forehead_width_cm  ...  distance_nose_to_lip_long  gender\n",
              "0          1               11.8  ...                          1    Male\n",
              "1          0               14.0  ...                          0  Female\n",
              "2          0               11.8  ...                          1    Male\n",
              "3          0               14.4  ...                          1    Male\n",
              "4          1               13.5  ...                          0  Female\n",
              "\n",
              "[5 rows x 8 columns]"
            ]
          },
          "metadata": {
            "tags": []
          },
          "execution_count": 7
        }
      ]
    },
    {
      "cell_type": "markdown",
      "metadata": {
        "id": "aU2_fIg1YXav"
      },
      "source": [
        "- (c) Vérifier que les colonnes de ```df``` sont du bon type, et traiter les valeurs manquantes s'il y en a."
      ]
    },
    {
      "cell_type": "code",
      "metadata": {
        "colab": {
          "base_uri": "https://localhost:8080/"
        },
        "id": "2oCLX-uQYXlt",
        "outputId": "a33a4811-ac21-4673-80db-e3281a120422"
      },
      "source": [
        "df.info()"
      ],
      "execution_count": null,
      "outputs": [
        {
          "output_type": "stream",
          "text": [
            "<class 'pandas.core.frame.DataFrame'>\n",
            "RangeIndex: 5001 entries, 0 to 5000\n",
            "Data columns (total 8 columns):\n",
            " #   Column                     Non-Null Count  Dtype  \n",
            "---  ------                     --------------  -----  \n",
            " 0   long_hair                  5001 non-null   int64  \n",
            " 1   forehead_width_cm          5001 non-null   float64\n",
            " 2   forehead_height_cm         5001 non-null   float64\n",
            " 3   nose_wide                  5001 non-null   int64  \n",
            " 4   nose_long                  5001 non-null   int64  \n",
            " 5   lips_thin                  5001 non-null   int64  \n",
            " 6   distance_nose_to_lip_long  5001 non-null   int64  \n",
            " 7   gender                     5001 non-null   object \n",
            "dtypes: float64(2), int64(5), object(1)\n",
            "memory usage: 312.7+ KB\n"
          ],
          "name": "stdout"
        }
      ]
    },
    {
      "cell_type": "code",
      "metadata": {
        "colab": {
          "base_uri": "https://localhost:8080/"
        },
        "id": "70P6QKzlYXpt",
        "outputId": "040a9ee4-381e-409c-aedf-1b5599abbb8e"
      },
      "source": [
        "df.isna().sum()"
      ],
      "execution_count": null,
      "outputs": [
        {
          "output_type": "execute_result",
          "data": {
            "text/plain": [
              "long_hair                    0\n",
              "forehead_width_cm            0\n",
              "forehead_height_cm           0\n",
              "nose_wide                    0\n",
              "nose_long                    0\n",
              "lips_thin                    0\n",
              "distance_nose_to_lip_long    0\n",
              "gender                       0\n",
              "dtype: int64"
            ]
          },
          "metadata": {
            "tags": []
          },
          "execution_count": 9
        }
      ]
    },
    {
      "cell_type": "markdown",
      "metadata": {
        "id": "Igf68u4mYBY8"
      },
      "source": [
        "- (d) Préparer les données.\n",
        "> Cette partie regroupe :\n",
        ">> - L'encodage des variables\n",
        ">>\n",
        ">>\n",
        ">> - la séparation des variables explicatives de la variable cible\n",
        ">>\n",
        ">>\n",
        ">> - La création d'un jeu de test et d'entraînement\n",
        ">>\n",
        ">>\n",
        ">> - Le scaling de ```X_train``` et ```X_test```"
      ]
    },
    {
      "cell_type": "code",
      "metadata": {
        "id": "xt051PgvIWHT"
      },
      "source": [
        "X = df.drop(labels='gender', axis=1)\n",
        "y = df['gender'].replace({'Male' : 0, 'Female' : 1})"
      ],
      "execution_count": null,
      "outputs": []
    },
    {
      "cell_type": "code",
      "metadata": {
        "id": "-w8hs8guIgm2"
      },
      "source": [
        "X_train, X_test, y_train, y_test = train_test_split(X, y, test_size=0.2, random_state=123)"
      ],
      "execution_count": null,
      "outputs": []
    },
    {
      "cell_type": "code",
      "metadata": {
        "id": "0WwEMaa-I4nu"
      },
      "source": [
        "scaler = MinMaxScaler()\n",
        "\n",
        "scaler.fit(X_train)\n",
        "X_train_scaled = pd.DataFrame(scaler.transform(X_train), index=X_train.index, columns=X_train.columns)\n",
        "X_test_scaled = pd.DataFrame(scaler.transform(X_test), index=X_test.index, columns=X_test.columns)"
      ],
      "execution_count": null,
      "outputs": []
    },
    {
      "cell_type": "markdown",
      "metadata": {
        "id": "mF9FgTdxI7i5"
      },
      "source": [
        "# II - <a name=\"knn\"></a> Classification avec un algorithme classique (KNN)\n",
        "\n",
        "- (a) Instancier un modèle de classification KNN.\n",
        "\n",
        "- (b) Fit le modèle aux données d'entraînement.\n",
        "\n",
        "- (c) Effectuer une prédiction à partir des données de test (attention au scaling).\n",
        "\n",
        "- (d) Afficher la matrice de confusion de la prédiction."
      ]
    },
    {
      "cell_type": "code",
      "metadata": {
        "colab": {
          "base_uri": "https://localhost:8080/"
        },
        "id": "T8gJGIOpI9Sm",
        "outputId": "2d4b7628-0f48-46a1-acdb-85634ba3368d"
      },
      "source": [
        "knn = KNeighborsClassifier(n_neighbors=2)\n",
        "knn.fit(X_train_scaled, y_train)"
      ],
      "execution_count": null,
      "outputs": [
        {
          "output_type": "execute_result",
          "data": {
            "text/plain": [
              "KNeighborsClassifier(algorithm='auto', leaf_size=30, metric='minkowski',\n",
              "                     metric_params=None, n_jobs=None, n_neighbors=2, p=2,\n",
              "                     weights='uniform')"
            ]
          },
          "metadata": {
            "tags": []
          },
          "execution_count": 13
        }
      ]
    },
    {
      "cell_type": "code",
      "metadata": {
        "id": "Oi2UdXp1JBR9"
      },
      "source": [
        "y_pred_knn = knn.predict(X_test_scaled)"
      ],
      "execution_count": null,
      "outputs": []
    },
    {
      "cell_type": "code",
      "metadata": {
        "colab": {
          "base_uri": "https://localhost:8080/",
          "height": 142
        },
        "id": "oz6T8JOuJExz",
        "outputId": "1013b4b9-4df9-43b2-d5d6-a8ec3dbc8231"
      },
      "source": [
        "pd.crosstab(y_test, y_pred_knn, rownames = ['Classe réelle'], colnames = ['Classe prédite par knn'])"
      ],
      "execution_count": null,
      "outputs": [
        {
          "output_type": "execute_result",
          "data": {
            "text/html": [
              "<div>\n",
              "<style scoped>\n",
              "    .dataframe tbody tr th:only-of-type {\n",
              "        vertical-align: middle;\n",
              "    }\n",
              "\n",
              "    .dataframe tbody tr th {\n",
              "        vertical-align: top;\n",
              "    }\n",
              "\n",
              "    .dataframe thead th {\n",
              "        text-align: right;\n",
              "    }\n",
              "</style>\n",
              "<table border=\"1\" class=\"dataframe\">\n",
              "  <thead>\n",
              "    <tr style=\"text-align: right;\">\n",
              "      <th>Classe prédite par knn</th>\n",
              "      <th>0</th>\n",
              "      <th>1</th>\n",
              "    </tr>\n",
              "    <tr>\n",
              "      <th>Classe réelle</th>\n",
              "      <th></th>\n",
              "      <th></th>\n",
              "    </tr>\n",
              "  </thead>\n",
              "  <tbody>\n",
              "    <tr>\n",
              "      <th>0</th>\n",
              "      <td>505</td>\n",
              "      <td>9</td>\n",
              "    </tr>\n",
              "    <tr>\n",
              "      <th>1</th>\n",
              "      <td>29</td>\n",
              "      <td>458</td>\n",
              "    </tr>\n",
              "  </tbody>\n",
              "</table>\n",
              "</div>"
            ],
            "text/plain": [
              "Classe prédite par knn    0    1\n",
              "Classe réelle                   \n",
              "0                       505    9\n",
              "1                        29  458"
            ]
          },
          "metadata": {
            "tags": []
          },
          "execution_count": 15
        }
      ]
    },
    {
      "cell_type": "markdown",
      "metadata": {
        "id": "x5sQG8XEJMcc"
      },
      "source": [
        "# III - <a name=\"dnn\"></a> Classification à l'aide d'un réseau de neurones dense\n",
        "\n",
        "- (a) Instancier un réseau de neurones dense de l'architecture de votre choix.\n",
        "\n",
        "- (b) Compiler le modèle avec une métrique appropriée.\n",
        "\n",
        "- (c) Entraîner le modèle avec les paramètres de votre choix. On pourra également définir des callbacks.\n",
        "\n",
        "- (d) Effectuer une prédiction à partir des données de test (attention au scaling).\n",
        "\n",
        "- (e) Afficher la matrice de confusion de la prédiction"
      ]
    },
    {
      "cell_type": "code",
      "metadata": {
        "id": "kzriNHHtJPAF"
      },
      "source": [
        "input_shape = (X_train_scaled.shape[1],)"
      ],
      "execution_count": null,
      "outputs": []
    },
    {
      "cell_type": "code",
      "metadata": {
        "id": "BIrOsYBSJZT2"
      },
      "source": [
        "model = Sequential()\n",
        "model.add(Dense(units=10, input_shape=input_shape, activation='relu'))\n",
        "model.add(Dense(units=128, activation='relu'))\n",
        "model.add(Dense(units=2048, activation='relu'))\n",
        "model.add(Dropout(rate=0.2))\n",
        "model.add(Dense(units=256, activation='relu'))\n",
        "model.add(Dense(units=128, activation='relu'))\n",
        "model.add(Dense(units=2, activation='softmax'))"
      ],
      "execution_count": null,
      "outputs": []
    },
    {
      "cell_type": "code",
      "metadata": {
        "id": "jR8prixxJerK"
      },
      "source": [
        "early_stopping = callbacks.EarlyStopping(monitor = 'val_loss',\n",
        "                        patience = 20,\n",
        "                        mode = 'min',\n",
        "                        restore_best_weights = True)\n",
        "\n",
        "lr_plateau = callbacks.ReduceLROnPlateau(monitor = 'val_loss',\n",
        "                            patience=5,\n",
        "                            factor=0.8,\n",
        "                            verbose=2,\n",
        "                            mode='min')"
      ],
      "execution_count": null,
      "outputs": []
    },
    {
      "cell_type": "code",
      "metadata": {
        "id": "ZnTs92E6JjAj"
      },
      "source": [
        "model.compile(loss='sparse_categorical_crossentropy', optimizer='adam', metrics=['accuracy'])"
      ],
      "execution_count": null,
      "outputs": []
    },
    {
      "cell_type": "code",
      "metadata": {
        "colab": {
          "base_uri": "https://localhost:8080/"
        },
        "id": "7S5XnnGfJnlz",
        "outputId": "d28b5d5c-694b-4bf6-9276-ad71e85d7e7c"
      },
      "source": [
        "history = model.fit(X_train_scaled, y_train, epochs = 200, batch_size = 30, validation_split = 0.2, callbacks = [early_stopping,lr_plateau])"
      ],
      "execution_count": null,
      "outputs": [
        {
          "output_type": "stream",
          "text": [
            "Epoch 1/200\n",
            "107/107 [==============================] - 3s 15ms/step - loss: 0.1810 - accuracy: 0.9322 - val_loss: 0.1106 - val_accuracy: 0.9475\n",
            "Epoch 2/200\n",
            "107/107 [==============================] - 1s 14ms/step - loss: 0.1065 - accuracy: 0.9572 - val_loss: 0.1125 - val_accuracy: 0.9538\n",
            "Epoch 3/200\n",
            "107/107 [==============================] - 1s 13ms/step - loss: 0.0980 - accuracy: 0.9619 - val_loss: 0.0816 - val_accuracy: 0.9613\n",
            "Epoch 4/200\n",
            "107/107 [==============================] - 1s 13ms/step - loss: 0.0860 - accuracy: 0.9650 - val_loss: 0.0786 - val_accuracy: 0.9663\n",
            "Epoch 5/200\n",
            "107/107 [==============================] - 1s 13ms/step - loss: 0.0944 - accuracy: 0.9634 - val_loss: 0.0872 - val_accuracy: 0.9575\n",
            "Epoch 6/200\n",
            "107/107 [==============================] - 1s 13ms/step - loss: 0.0815 - accuracy: 0.9663 - val_loss: 0.0853 - val_accuracy: 0.9588\n",
            "Epoch 7/200\n",
            "107/107 [==============================] - 1s 13ms/step - loss: 0.0768 - accuracy: 0.9684 - val_loss: 0.0889 - val_accuracy: 0.9700\n",
            "Epoch 8/200\n",
            "107/107 [==============================] - 1s 13ms/step - loss: 0.0757 - accuracy: 0.9688 - val_loss: 0.0886 - val_accuracy: 0.9600\n",
            "Epoch 9/200\n",
            "107/107 [==============================] - 1s 13ms/step - loss: 0.0833 - accuracy: 0.9678 - val_loss: 0.0827 - val_accuracy: 0.9575\n",
            "\n",
            "Epoch 00009: ReduceLROnPlateau reducing learning rate to 0.000800000037997961.\n",
            "Epoch 10/200\n",
            "107/107 [==============================] - 1s 13ms/step - loss: 0.0729 - accuracy: 0.9691 - val_loss: 0.0695 - val_accuracy: 0.9700\n",
            "Epoch 11/200\n",
            "107/107 [==============================] - 1s 13ms/step - loss: 0.0703 - accuracy: 0.9716 - val_loss: 0.0857 - val_accuracy: 0.9563\n",
            "Epoch 12/200\n",
            "107/107 [==============================] - 1s 13ms/step - loss: 0.0691 - accuracy: 0.9709 - val_loss: 0.0795 - val_accuracy: 0.9600\n",
            "Epoch 13/200\n",
            "107/107 [==============================] - 1s 13ms/step - loss: 0.0760 - accuracy: 0.9688 - val_loss: 0.0768 - val_accuracy: 0.9638\n",
            "Epoch 14/200\n",
            "107/107 [==============================] - 1s 13ms/step - loss: 0.0692 - accuracy: 0.9706 - val_loss: 0.0779 - val_accuracy: 0.9638\n",
            "Epoch 15/200\n",
            "107/107 [==============================] - 1s 13ms/step - loss: 0.0682 - accuracy: 0.9712 - val_loss: 0.0741 - val_accuracy: 0.9700\n",
            "\n",
            "Epoch 00015: ReduceLROnPlateau reducing learning rate to 0.0006400000303983689.\n",
            "Epoch 16/200\n",
            "107/107 [==============================] - 1s 13ms/step - loss: 0.0635 - accuracy: 0.9728 - val_loss: 0.0760 - val_accuracy: 0.9700\n",
            "Epoch 17/200\n",
            "107/107 [==============================] - 1s 12ms/step - loss: 0.0662 - accuracy: 0.9712 - val_loss: 0.0751 - val_accuracy: 0.9675\n",
            "Epoch 18/200\n",
            "107/107 [==============================] - 1s 13ms/step - loss: 0.0664 - accuracy: 0.9731 - val_loss: 0.0814 - val_accuracy: 0.9700\n",
            "Epoch 19/200\n",
            "107/107 [==============================] - 1s 13ms/step - loss: 0.0668 - accuracy: 0.9725 - val_loss: 0.0792 - val_accuracy: 0.9663\n",
            "Epoch 20/200\n",
            "107/107 [==============================] - 1s 13ms/step - loss: 0.0668 - accuracy: 0.9734 - val_loss: 0.0800 - val_accuracy: 0.9675\n",
            "\n",
            "Epoch 00020: ReduceLROnPlateau reducing learning rate to 0.0005120000336319208.\n",
            "Epoch 21/200\n",
            "107/107 [==============================] - 1s 13ms/step - loss: 0.0621 - accuracy: 0.9734 - val_loss: 0.0779 - val_accuracy: 0.9638\n",
            "Epoch 22/200\n",
            "107/107 [==============================] - 1s 13ms/step - loss: 0.0620 - accuracy: 0.9747 - val_loss: 0.0791 - val_accuracy: 0.9688\n",
            "Epoch 23/200\n",
            "107/107 [==============================] - 1s 12ms/step - loss: 0.0588 - accuracy: 0.9750 - val_loss: 0.0926 - val_accuracy: 0.9613\n",
            "Epoch 24/200\n",
            "107/107 [==============================] - 1s 14ms/step - loss: 0.0613 - accuracy: 0.9750 - val_loss: 0.0859 - val_accuracy: 0.9663\n",
            "Epoch 25/200\n",
            "107/107 [==============================] - 1s 13ms/step - loss: 0.0600 - accuracy: 0.9747 - val_loss: 0.0842 - val_accuracy: 0.9638\n",
            "\n",
            "Epoch 00025: ReduceLROnPlateau reducing learning rate to 0.00040960004553198815.\n",
            "Epoch 26/200\n",
            "107/107 [==============================] - 1s 13ms/step - loss: 0.0588 - accuracy: 0.9753 - val_loss: 0.0817 - val_accuracy: 0.9663\n",
            "Epoch 27/200\n",
            "107/107 [==============================] - 1s 13ms/step - loss: 0.0579 - accuracy: 0.9762 - val_loss: 0.0844 - val_accuracy: 0.9650\n",
            "Epoch 28/200\n",
            "107/107 [==============================] - 1s 13ms/step - loss: 0.0577 - accuracy: 0.9769 - val_loss: 0.0855 - val_accuracy: 0.9663\n",
            "Epoch 29/200\n",
            "107/107 [==============================] - 1s 13ms/step - loss: 0.0581 - accuracy: 0.9769 - val_loss: 0.0893 - val_accuracy: 0.9663\n",
            "Epoch 30/200\n",
            "107/107 [==============================] - 1s 12ms/step - loss: 0.0558 - accuracy: 0.9762 - val_loss: 0.0863 - val_accuracy: 0.9712\n",
            "\n",
            "Epoch 00030: ReduceLROnPlateau reducing learning rate to 0.00032768002711236477.\n"
          ],
          "name": "stdout"
        }
      ]
    },
    {
      "cell_type": "code",
      "metadata": {
        "colab": {
          "base_uri": "https://localhost:8080/",
          "height": 295
        },
        "id": "50OUw6hsJ9Am",
        "outputId": "8a3f021b-d560-49d5-de74-fbab63361a48"
      },
      "source": [
        "plt.figure(figsize=(12,4))\n",
        "plt.subplot(121)\n",
        "plt.plot(history.history['loss'])\n",
        "plt.plot(history.history['val_loss'])\n",
        "plt.title('Perte du modèle par epoch')\n",
        "plt.ylabel('perte')\n",
        "plt.xlabel('epoch')\n",
        "plt.legend(['train', 'test'], loc='right')\n",
        "\n",
        "plt.subplot(122)\n",
        "plt.plot(history.history['accuracy'])\n",
        "plt.plot(history.history['val_accuracy'])\n",
        "plt.title('Précision du modèle par epoch')\n",
        "plt.ylabel('précision')\n",
        "plt.xlabel('epoch')\n",
        "plt.legend(['train', 'test'], loc='right');"
      ],
      "execution_count": null,
      "outputs": [
        {
          "output_type": "display_data",
          "data": {
            "image/png": "[encoded data removed]",
            "text/plain": [
              "<Figure size 864x288 with 2 Axes>"
            ]
          },
          "metadata": {
            "tags": [],
            "needs_background": "light"
          }
        }
      ]
    },
    {
      "cell_type": "code",
      "metadata": {
        "id": "ux2DShXfKHVD"
      },
      "source": [
        "y_prob_dnn = model.predict(X_test_scaled)\n",
        "y_pred_dnn = y_prob_dnn.argmax(axis=-1)"
      ],
      "execution_count": null,
      "outputs": []
    },
    {
      "cell_type": "code",
      "metadata": {
        "colab": {
          "base_uri": "https://localhost:8080/",
          "height": 142
        },
        "id": "W2wwDxYsKRfO",
        "outputId": "44acdec9-24a5-4232-e61b-6bbbe23723d5"
      },
      "source": [
        "pd.crosstab(y_test, y_pred_dnn, rownames = ['Classe réelle'], colnames = ['Classe prédite par dnn'])"
      ],
      "execution_count": null,
      "outputs": [
        {
          "output_type": "execute_result",
          "data": {
            "text/html": [
              "<div>\n",
              "<style scoped>\n",
              "    .dataframe tbody tr th:only-of-type {\n",
              "        vertical-align: middle;\n",
              "    }\n",
              "\n",
              "    .dataframe tbody tr th {\n",
              "        vertical-align: top;\n",
              "    }\n",
              "\n",
              "    .dataframe thead th {\n",
              "        text-align: right;\n",
              "    }\n",
              "</style>\n",
              "<table border=\"1\" class=\"dataframe\">\n",
              "  <thead>\n",
              "    <tr style=\"text-align: right;\">\n",
              "      <th>Classe prédite par dnn</th>\n",
              "      <th>0</th>\n",
              "      <th>1</th>\n",
              "    </tr>\n",
              "    <tr>\n",
              "      <th>Classe réelle</th>\n",
              "      <th></th>\n",
              "      <th></th>\n",
              "    </tr>\n",
              "  </thead>\n",
              "  <tbody>\n",
              "    <tr>\n",
              "      <th>0</th>\n",
              "      <td>502</td>\n",
              "      <td>12</td>\n",
              "    </tr>\n",
              "    <tr>\n",
              "      <th>1</th>\n",
              "      <td>15</td>\n",
              "      <td>472</td>\n",
              "    </tr>\n",
              "  </tbody>\n",
              "</table>\n",
              "</div>"
            ],
            "text/plain": [
              "Classe prédite par dnn    0    1\n",
              "Classe réelle                   \n",
              "0                       502   12\n",
              "1                        15  472"
            ]
          },
          "metadata": {
            "tags": []
          },
          "execution_count": 23
        }
      ]
    },
    {
      "cell_type": "code",
      "metadata": {
        "id": "QKrYCEMj55hM"
      },
      "source": [],
      "execution_count": null,
      "outputs": []
    }
  ]
}